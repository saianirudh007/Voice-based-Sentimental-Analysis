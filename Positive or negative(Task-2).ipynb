{
 "cells": [
  {
   "cell_type": "code",
   "execution_count": 1,
   "metadata": {},
   "outputs": [],
   "source": [
    "from sklearn.feature_extraction.text import CountVectorizer\n",
    "from sklearn.naive_bayes import BernoulliNB\n",
    "import numpy as np"
   ]
  },
  {
   "cell_type": "code",
   "execution_count": 2,
   "metadata": {},
   "outputs": [],
   "source": [
    "def get_all_data():\n",
    "    root = \"Data/\"\n",
    "\n",
    "    with open(root + \"imdb_labelled.txt\", \"r\") as text_file:\n",
    "        data = text_file.read().split('\\n')\n",
    "         \n",
    "    with open(root + \"amazon_cells_labelled.txt\", \"r\") as text_file:\n",
    "        data += text_file.read().split('\\n')\n",
    "\n",
    "    with open(root + \"yelp_labelled.txt\", \"r\") as text_file:\n",
    "        data += text_file.read().split('\\n')\n",
    "\n",
    "    return data\n",
    "\n",
    "\n",
    "#get_all_data()"
   ]
  },
  {
   "cell_type": "code",
   "execution_count": 3,
   "metadata": {},
   "outputs": [],
   "source": [
    "def preprocessing_data(data):\n",
    "    processing_data = []\n",
    "    for single_data in data:\n",
    "        #print(single_data.split(\"\\t\"))\n",
    "        if len(single_data.split(\"\\t\")) == 2 and single_data.split(\"\\t\")[1] != \"\":\n",
    "            processing_data.append(single_data.split(\"\\t\"))\n",
    "\n",
    "    return processing_data\n",
    "\n",
    "\n",
    "#all_data=get_all_data()\n",
    "#preprocessing_data(all_data)"
   ]
  },
  {
   "cell_type": "code",
   "execution_count": 4,
   "metadata": {},
   "outputs": [],
   "source": [
    "def split_data(data):\n",
    "    total = len(data)\n",
    "    training_ratio = 0.75\n",
    "    training_data = []\n",
    "    evaluation_data = []\n",
    "\n",
    "    for indice in range(0, total):\n",
    "        if indice < total * training_ratio:\n",
    "            training_data.append(data[indice])\n",
    "        else:\n",
    "            evaluation_data.append(data[indice])\n",
    "\n",
    "    return training_data, evaluation_data"
   ]
  },
  {
   "cell_type": "code",
   "execution_count": 5,
   "metadata": {},
   "outputs": [],
   "source": [
    "def preprocessing_step():\n",
    "    data = get_all_data()\n",
    "    processing_data = preprocessing_data(data)\n",
    "\n",
    "    return split_data(processing_data)"
   ]
  },
  {
   "cell_type": "code",
   "execution_count": 6,
   "metadata": {},
   "outputs": [],
   "source": [
    "def training_step(data, vectorizer):\n",
    "    training_text = [data[0] for data in data]\n",
    "    training_result = [data[1] for data in data]\n",
    "\n",
    "    training_text = vectorizer.fit_transform(training_text)\n",
    "    #print(training_text)\n",
    "    return BernoulliNB().fit(training_text, training_result)"
   ]
  },
  {
   "cell_type": "code",
   "execution_count": 7,
   "metadata": {},
   "outputs": [],
   "source": [
    "training_data, evaluation_data = preprocessing_step()\n",
    "#print(training_data)\n",
    "vectorizer = CountVectorizer(binary = 'true')\n",
    "classifier = training_step(training_data, vectorizer)"
   ]
  },
  {
   "cell_type": "code",
   "execution_count": 8,
   "metadata": {},
   "outputs": [],
   "source": [
    "def analyse_text(classifier, vectorizer, text):\n",
    "    #print(vectorizer.transform([text]))\n",
    "    return text, classifier.predict(vectorizer.transform([text]))\n",
    "  \n",
    "def print_result(result):\n",
    "    text, analysis_result = result\n",
    "    #print(analysis_result[0])\n",
    "    print_text = \"Positive\" if analysis_result[0] == '1' else \"Negative\"\n",
    "    print(text, \":\", print_text)"
   ]
  },
  {
   "cell_type": "code",
   "execution_count": 9,
   "metadata": {},
   "outputs": [],
   "source": [
    "def simple_evaluation(evaluation_data):\n",
    "    evaluation_text     = [evaluation_data[0] for evaluation_data in evaluation_data]\n",
    "    evaluation_result   = [evaluation_data[1] for evaluation_data in evaluation_data]\n",
    "\n",
    "    total = len(evaluation_text)\n",
    "    #print(total)\n",
    "    corrects = 0\n",
    "    for index in range(0, total):\n",
    "        analysis_result = analyse_text(classifier, vectorizer, evaluation_text[index])\n",
    "        text, result = analysis_result\n",
    "        corrects += 1 if result[0] == evaluation_result[index] else 0\n",
    "\n",
    "    return corrects * 100 / total"
   ]
  },
  {
   "cell_type": "code",
   "execution_count": 10,
   "metadata": {},
   "outputs": [
    {
     "data": {
      "text/plain": [
       "82.0"
      ]
     },
     "execution_count": 10,
     "metadata": {},
     "output_type": "execute_result"
    }
   ],
   "source": [
    "simple_evaluation(evaluation_data)"
   ]
  },
  {
   "cell_type": "code",
   "execution_count": 12,
   "metadata": {},
   "outputs": [
    {
     "name": "stdout",
     "output_type": "stream",
     "text": [
      "speak something\n",
      "I love my mother : Positive\n"
     ]
    }
   ],
   "source": [
    "import speech_recognition as sr\n",
    "\n",
    "r=sr.Recognizer()\n",
    "with sr.Microphone() as source:\n",
    "    print(\"speak something\")\n",
    "    aud=r.listen(source)\n",
    "    try:\n",
    "        text=r.recognize_google(aud)\n",
    "    except:\n",
    "        print(\"tell clearly\")\n",
    "\n",
    "print_result(analyse_text(classifier, vectorizer, text))"
   ]
  },
  {
   "cell_type": "code",
   "execution_count": null,
   "metadata": {},
   "outputs": [],
   "source": []
  }
 ],
 "metadata": {
  "kernelspec": {
   "display_name": "Python 3",
   "language": "python",
   "name": "python3"
  },
  "language_info": {
   "codemirror_mode": {
    "name": "ipython",
    "version": 3
   },
   "file_extension": ".py",
   "mimetype": "text/x-python",
   "name": "python",
   "nbconvert_exporter": "python",
   "pygments_lexer": "ipython3",
   "version": "3.7.3"
  }
 },
 "nbformat": 4,
 "nbformat_minor": 4
}
